{
 "cells": [
  {
   "cell_type": "markdown",
   "id": "af09fb82",
   "metadata": {},
   "source": [
    "## 6.4 Regression\n",
    "\n",
    "1.Import Libraries\n",
    "\n",
    "2.Clean the data\n",
    "\n",
    "3.Explore data Visually\n",
    "\n",
    "4.State hypotheis\n",
    "\n",
    "5.Reshape variables\n",
    "\n",
    "6.Split Data into 2\n",
    "\n",
    "7.Run linear regression a)Fit created training set\n",
    "                        b)Create prediction for test set\n",
    "                        \n",
    "8.Create plot with Regression Line\n",
    "\n",
    "9.Compare predicted values with actual"
   ]
  },
  {
   "cell_type": "code",
   "execution_count": 1,
   "id": "13793478",
   "metadata": {},
   "outputs": [],
   "source": [
    "#1. Import Libraries\n",
    "\n",
    "import pandas as pd\n",
    "import numpy as np\n",
    "import seaborn as sns\n",
    "import matplotlib\n",
    "import matplotlib.pyplot as plt\n",
    "import os\n",
    "import sklearn\n",
    "from sklearn.model_selection import train_test_split \n",
    "from sklearn.linear_model import LinearRegression\n",
    "from sklearn.metrics import mean_squared_error, r2_score\n",
    "%matplotlib inline"
   ]
  },
  {
   "cell_type": "code",
   "execution_count": 2,
   "id": "41698f3b",
   "metadata": {},
   "outputs": [],
   "source": [
    "#2.Defining path ,importing dataset, and cleaning\n",
    "\n",
    "# Defining Path\n",
    "path=r'/Users/marieanek2/Documents/Youtube Trending Analysis'"
   ]
  },
  {
   "cell_type": "code",
   "execution_count": 3,
   "id": "4a75b557",
   "metadata": {},
   "outputs": [],
   "source": [
    "# Importing Data set\n",
    "\n",
    "df= pd.read_csv(os.path.join(path,'02 Data','Prepared Data','ALLvideos.csv'),index_col = False)"
   ]
  },
  {
   "cell_type": "code",
   "execution_count": 4,
   "id": "2b675461",
   "metadata": {},
   "outputs": [
    {
     "data": {
      "text/plain": [
       "Index(['Unnamed: 0', 'country', 'channel_title', 'category_id', 'views',\n",
       "       'likes', 'dislikes', 'comment_count', 'comments_disabled',\n",
       "       'ratings_disabled', 'video_error_or_removed'],\n",
       "      dtype='object')"
      ]
     },
     "execution_count": 4,
     "metadata": {},
     "output_type": "execute_result"
    }
   ],
   "source": [
    "# Data Cleaning\n",
    "df.columns"
   ]
  },
  {
   "cell_type": "code",
   "execution_count": 5,
   "id": "e3df252f",
   "metadata": {},
   "outputs": [
    {
     "data": {
      "text/html": [
       "<div>\n",
       "<style scoped>\n",
       "    .dataframe tbody tr th:only-of-type {\n",
       "        vertical-align: middle;\n",
       "    }\n",
       "\n",
       "    .dataframe tbody tr th {\n",
       "        vertical-align: top;\n",
       "    }\n",
       "\n",
       "    .dataframe thead th {\n",
       "        text-align: right;\n",
       "    }\n",
       "</style>\n",
       "<table border=\"1\" class=\"dataframe\">\n",
       "  <thead>\n",
       "    <tr style=\"text-align: right;\">\n",
       "      <th></th>\n",
       "      <th>Unnamed: 0</th>\n",
       "      <th>country</th>\n",
       "      <th>channel_title</th>\n",
       "      <th>category_id</th>\n",
       "      <th>views</th>\n",
       "      <th>likes</th>\n",
       "      <th>dislikes</th>\n",
       "      <th>comment_count</th>\n",
       "      <th>comments_disabled</th>\n",
       "      <th>ratings_disabled</th>\n",
       "      <th>video_error_or_removed</th>\n",
       "    </tr>\n",
       "  </thead>\n",
       "  <tbody>\n",
       "    <tr>\n",
       "      <th>0</th>\n",
       "      <td>0</td>\n",
       "      <td>US</td>\n",
       "      <td>CaseyNeistat</td>\n",
       "      <td>22</td>\n",
       "      <td>748374</td>\n",
       "      <td>57527</td>\n",
       "      <td>2966</td>\n",
       "      <td>15954</td>\n",
       "      <td>False</td>\n",
       "      <td>False</td>\n",
       "      <td>False</td>\n",
       "    </tr>\n",
       "    <tr>\n",
       "      <th>1</th>\n",
       "      <td>1</td>\n",
       "      <td>US</td>\n",
       "      <td>LastWeekTonight</td>\n",
       "      <td>24</td>\n",
       "      <td>2418783</td>\n",
       "      <td>97185</td>\n",
       "      <td>6146</td>\n",
       "      <td>12703</td>\n",
       "      <td>False</td>\n",
       "      <td>False</td>\n",
       "      <td>False</td>\n",
       "    </tr>\n",
       "    <tr>\n",
       "      <th>2</th>\n",
       "      <td>2</td>\n",
       "      <td>US</td>\n",
       "      <td>Rudy Mancuso</td>\n",
       "      <td>23</td>\n",
       "      <td>3191434</td>\n",
       "      <td>146033</td>\n",
       "      <td>5339</td>\n",
       "      <td>8181</td>\n",
       "      <td>False</td>\n",
       "      <td>False</td>\n",
       "      <td>False</td>\n",
       "    </tr>\n",
       "    <tr>\n",
       "      <th>3</th>\n",
       "      <td>3</td>\n",
       "      <td>US</td>\n",
       "      <td>Good Mythical Morning</td>\n",
       "      <td>24</td>\n",
       "      <td>343168</td>\n",
       "      <td>10172</td>\n",
       "      <td>666</td>\n",
       "      <td>2146</td>\n",
       "      <td>False</td>\n",
       "      <td>False</td>\n",
       "      <td>False</td>\n",
       "    </tr>\n",
       "    <tr>\n",
       "      <th>4</th>\n",
       "      <td>4</td>\n",
       "      <td>US</td>\n",
       "      <td>nigahiga</td>\n",
       "      <td>24</td>\n",
       "      <td>2095731</td>\n",
       "      <td>132235</td>\n",
       "      <td>1989</td>\n",
       "      <td>17518</td>\n",
       "      <td>False</td>\n",
       "      <td>False</td>\n",
       "      <td>False</td>\n",
       "    </tr>\n",
       "    <tr>\n",
       "      <th>5</th>\n",
       "      <td>5</td>\n",
       "      <td>US</td>\n",
       "      <td>iJustine</td>\n",
       "      <td>28</td>\n",
       "      <td>119180</td>\n",
       "      <td>9763</td>\n",
       "      <td>511</td>\n",
       "      <td>1434</td>\n",
       "      <td>False</td>\n",
       "      <td>False</td>\n",
       "      <td>False</td>\n",
       "    </tr>\n",
       "    <tr>\n",
       "      <th>6</th>\n",
       "      <td>6</td>\n",
       "      <td>US</td>\n",
       "      <td>Saturday Night Live</td>\n",
       "      <td>24</td>\n",
       "      <td>2103417</td>\n",
       "      <td>15993</td>\n",
       "      <td>2445</td>\n",
       "      <td>1970</td>\n",
       "      <td>False</td>\n",
       "      <td>False</td>\n",
       "      <td>False</td>\n",
       "    </tr>\n",
       "    <tr>\n",
       "      <th>7</th>\n",
       "      <td>7</td>\n",
       "      <td>US</td>\n",
       "      <td>CrazyRussianHacker</td>\n",
       "      <td>28</td>\n",
       "      <td>817732</td>\n",
       "      <td>23663</td>\n",
       "      <td>778</td>\n",
       "      <td>3432</td>\n",
       "      <td>False</td>\n",
       "      <td>False</td>\n",
       "      <td>False</td>\n",
       "    </tr>\n",
       "    <tr>\n",
       "      <th>8</th>\n",
       "      <td>8</td>\n",
       "      <td>US</td>\n",
       "      <td>20th Century Fox</td>\n",
       "      <td>1</td>\n",
       "      <td>826059</td>\n",
       "      <td>3543</td>\n",
       "      <td>119</td>\n",
       "      <td>340</td>\n",
       "      <td>False</td>\n",
       "      <td>False</td>\n",
       "      <td>False</td>\n",
       "    </tr>\n",
       "    <tr>\n",
       "      <th>9</th>\n",
       "      <td>9</td>\n",
       "      <td>US</td>\n",
       "      <td>Vox</td>\n",
       "      <td>25</td>\n",
       "      <td>256426</td>\n",
       "      <td>12654</td>\n",
       "      <td>1363</td>\n",
       "      <td>2368</td>\n",
       "      <td>False</td>\n",
       "      <td>False</td>\n",
       "      <td>False</td>\n",
       "    </tr>\n",
       "    <tr>\n",
       "      <th>10</th>\n",
       "      <td>10</td>\n",
       "      <td>US</td>\n",
       "      <td>NFL</td>\n",
       "      <td>17</td>\n",
       "      <td>81377</td>\n",
       "      <td>655</td>\n",
       "      <td>25</td>\n",
       "      <td>177</td>\n",
       "      <td>False</td>\n",
       "      <td>False</td>\n",
       "      <td>False</td>\n",
       "    </tr>\n",
       "    <tr>\n",
       "      <th>11</th>\n",
       "      <td>11</td>\n",
       "      <td>US</td>\n",
       "      <td>amc</td>\n",
       "      <td>24</td>\n",
       "      <td>104578</td>\n",
       "      <td>1576</td>\n",
       "      <td>303</td>\n",
       "      <td>1279</td>\n",
       "      <td>False</td>\n",
       "      <td>False</td>\n",
       "      <td>False</td>\n",
       "    </tr>\n",
       "    <tr>\n",
       "      <th>12</th>\n",
       "      <td>12</td>\n",
       "      <td>US</td>\n",
       "      <td>marshmello</td>\n",
       "      <td>10</td>\n",
       "      <td>687582</td>\n",
       "      <td>114188</td>\n",
       "      <td>1333</td>\n",
       "      <td>8371</td>\n",
       "      <td>False</td>\n",
       "      <td>False</td>\n",
       "      <td>False</td>\n",
       "    </tr>\n",
       "    <tr>\n",
       "      <th>13</th>\n",
       "      <td>13</td>\n",
       "      <td>US</td>\n",
       "      <td>NowThis World</td>\n",
       "      <td>25</td>\n",
       "      <td>544770</td>\n",
       "      <td>7848</td>\n",
       "      <td>1171</td>\n",
       "      <td>3981</td>\n",
       "      <td>False</td>\n",
       "      <td>False</td>\n",
       "      <td>False</td>\n",
       "    </tr>\n",
       "    <tr>\n",
       "      <th>14</th>\n",
       "      <td>14</td>\n",
       "      <td>US</td>\n",
       "      <td>The king of DIY</td>\n",
       "      <td>15</td>\n",
       "      <td>207532</td>\n",
       "      <td>7473</td>\n",
       "      <td>246</td>\n",
       "      <td>2120</td>\n",
       "      <td>False</td>\n",
       "      <td>False</td>\n",
       "      <td>False</td>\n",
       "    </tr>\n",
       "    <tr>\n",
       "      <th>15</th>\n",
       "      <td>15</td>\n",
       "      <td>US</td>\n",
       "      <td>BostonDynamics</td>\n",
       "      <td>28</td>\n",
       "      <td>75752</td>\n",
       "      <td>9419</td>\n",
       "      <td>52</td>\n",
       "      <td>1230</td>\n",
       "      <td>False</td>\n",
       "      <td>False</td>\n",
       "      <td>False</td>\n",
       "    </tr>\n",
       "    <tr>\n",
       "      <th>16</th>\n",
       "      <td>16</td>\n",
       "      <td>US</td>\n",
       "      <td>Cracked</td>\n",
       "      <td>23</td>\n",
       "      <td>295639</td>\n",
       "      <td>8011</td>\n",
       "      <td>638</td>\n",
       "      <td>1256</td>\n",
       "      <td>False</td>\n",
       "      <td>False</td>\n",
       "      <td>False</td>\n",
       "    </tr>\n",
       "    <tr>\n",
       "      <th>17</th>\n",
       "      <td>17</td>\n",
       "      <td>US</td>\n",
       "      <td>TED-Ed</td>\n",
       "      <td>27</td>\n",
       "      <td>78044</td>\n",
       "      <td>5398</td>\n",
       "      <td>53</td>\n",
       "      <td>385</td>\n",
       "      <td>False</td>\n",
       "      <td>False</td>\n",
       "      <td>False</td>\n",
       "    </tr>\n",
       "    <tr>\n",
       "      <th>18</th>\n",
       "      <td>18</td>\n",
       "      <td>US</td>\n",
       "      <td>PeterSripol</td>\n",
       "      <td>28</td>\n",
       "      <td>97007</td>\n",
       "      <td>11963</td>\n",
       "      <td>36</td>\n",
       "      <td>2211</td>\n",
       "      <td>False</td>\n",
       "      <td>False</td>\n",
       "      <td>False</td>\n",
       "    </tr>\n",
       "    <tr>\n",
       "      <th>19</th>\n",
       "      <td>19</td>\n",
       "      <td>US</td>\n",
       "      <td>SciShow</td>\n",
       "      <td>27</td>\n",
       "      <td>223871</td>\n",
       "      <td>8421</td>\n",
       "      <td>191</td>\n",
       "      <td>1214</td>\n",
       "      <td>False</td>\n",
       "      <td>False</td>\n",
       "      <td>False</td>\n",
       "    </tr>\n",
       "  </tbody>\n",
       "</table>\n",
       "</div>"
      ],
      "text/plain": [
       "    Unnamed: 0 country          channel_title  category_id    views   likes  \\\n",
       "0            0      US           CaseyNeistat           22   748374   57527   \n",
       "1            1      US        LastWeekTonight           24  2418783   97185   \n",
       "2            2      US           Rudy Mancuso           23  3191434  146033   \n",
       "3            3      US  Good Mythical Morning           24   343168   10172   \n",
       "4            4      US               nigahiga           24  2095731  132235   \n",
       "5            5      US               iJustine           28   119180    9763   \n",
       "6            6      US    Saturday Night Live           24  2103417   15993   \n",
       "7            7      US     CrazyRussianHacker           28   817732   23663   \n",
       "8            8      US       20th Century Fox            1   826059    3543   \n",
       "9            9      US                    Vox           25   256426   12654   \n",
       "10          10      US                    NFL           17    81377     655   \n",
       "11          11      US                    amc           24   104578    1576   \n",
       "12          12      US             marshmello           10   687582  114188   \n",
       "13          13      US          NowThis World           25   544770    7848   \n",
       "14          14      US        The king of DIY           15   207532    7473   \n",
       "15          15      US         BostonDynamics           28    75752    9419   \n",
       "16          16      US                Cracked           23   295639    8011   \n",
       "17          17      US                 TED-Ed           27    78044    5398   \n",
       "18          18      US            PeterSripol           28    97007   11963   \n",
       "19          19      US                SciShow           27   223871    8421   \n",
       "\n",
       "    dislikes  comment_count  comments_disabled  ratings_disabled  \\\n",
       "0       2966          15954              False             False   \n",
       "1       6146          12703              False             False   \n",
       "2       5339           8181              False             False   \n",
       "3        666           2146              False             False   \n",
       "4       1989          17518              False             False   \n",
       "5        511           1434              False             False   \n",
       "6       2445           1970              False             False   \n",
       "7        778           3432              False             False   \n",
       "8        119            340              False             False   \n",
       "9       1363           2368              False             False   \n",
       "10        25            177              False             False   \n",
       "11       303           1279              False             False   \n",
       "12      1333           8371              False             False   \n",
       "13      1171           3981              False             False   \n",
       "14       246           2120              False             False   \n",
       "15        52           1230              False             False   \n",
       "16       638           1256              False             False   \n",
       "17        53            385              False             False   \n",
       "18        36           2211              False             False   \n",
       "19       191           1214              False             False   \n",
       "\n",
       "    video_error_or_removed  \n",
       "0                    False  \n",
       "1                    False  \n",
       "2                    False  \n",
       "3                    False  \n",
       "4                    False  \n",
       "5                    False  \n",
       "6                    False  \n",
       "7                    False  \n",
       "8                    False  \n",
       "9                    False  \n",
       "10                   False  \n",
       "11                   False  \n",
       "12                   False  \n",
       "13                   False  \n",
       "14                   False  \n",
       "15                   False  \n",
       "16                   False  \n",
       "17                   False  \n",
       "18                   False  \n",
       "19                   False  "
      ]
     },
     "execution_count": 5,
     "metadata": {},
     "output_type": "execute_result"
    }
   ],
   "source": [
    "df.head(20)"
   ]
  },
  {
   "cell_type": "code",
   "execution_count": 6,
   "id": "9a547c70",
   "metadata": {},
   "outputs": [
    {
     "data": {
      "text/plain": [
       "(304023, 11)"
      ]
     },
     "execution_count": 6,
     "metadata": {},
     "output_type": "execute_result"
    }
   ],
   "source": [
    "df.shape"
   ]
  },
  {
   "cell_type": "code",
   "execution_count": 7,
   "id": "9ea0b0e1",
   "metadata": {},
   "outputs": [
    {
     "data": {
      "text/plain": [
       "Unnamed: 0                0\n",
       "country                   0\n",
       "channel_title             0\n",
       "category_id               0\n",
       "views                     0\n",
       "likes                     0\n",
       "dislikes                  0\n",
       "comment_count             0\n",
       "comments_disabled         0\n",
       "ratings_disabled          0\n",
       "video_error_or_removed    0\n",
       "dtype: int64"
      ]
     },
     "execution_count": 7,
     "metadata": {},
     "output_type": "execute_result"
    }
   ],
   "source": [
    "# Check for missing values\n",
    "\n",
    "df.isnull().sum() #No Missing values"
   ]
  },
  {
   "cell_type": "code",
   "execution_count": 8,
   "id": "bbde0e5b",
   "metadata": {},
   "outputs": [],
   "source": [
    "#Checking for duplicates\n",
    "dups = df.duplicated()"
   ]
  },
  {
   "cell_type": "code",
   "execution_count": 9,
   "id": "5d5ffad7",
   "metadata": {},
   "outputs": [
    {
     "data": {
      "text/plain": [
       "(304023,)"
      ]
     },
     "execution_count": 9,
     "metadata": {},
     "output_type": "execute_result"
    }
   ],
   "source": [
    "dups.shape # No dups"
   ]
  },
  {
   "cell_type": "code",
   "execution_count": 10,
   "id": "7e24b093",
   "metadata": {},
   "outputs": [
    {
     "name": "stderr",
     "output_type": "stream",
     "text": [
      "/opt/anaconda3/lib/python3.8/site-packages/seaborn/distributions.py:2557: FutureWarning: `distplot` is a deprecated function and will be removed in a future version. Please adapt your code to use either `displot` (a figure-level function with similar flexibility) or `histplot` (an axes-level function for histograms).\n",
      "  warnings.warn(msg, FutureWarning)\n"
     ]
    },
    {
     "data": {
      "text/plain": [
       "<AxesSubplot:xlabel='views', ylabel='Density'>"
      ]
     },
     "execution_count": 10,
     "metadata": {},
     "output_type": "execute_result"
    },
    {
     "data": {
      "image/png": "[encoded data removed]",
      "text/plain": [
       "<Figure size 432x288 with 1 Axes>"
      ]
     },
     "metadata": {
      "needs_background": "light"
     },
     "output_type": "display_data"
    }
   ],
   "source": [
    "sns.distplot(df['views'], bins=30)"
   ]
  },
  {
   "cell_type": "code",
   "execution_count": 11,
   "id": "711cfeef",
   "metadata": {},
   "outputs": [
    {
     "data": {
      "text/plain": [
       "1461772.9914940647"
      ]
     },
     "execution_count": 11,
     "metadata": {},
     "output_type": "execute_result"
    }
   ],
   "source": [
    "df['views'].mean() # Check the mean"
   ]
  },
  {
   "cell_type": "code",
   "execution_count": 12,
   "id": "c1ba4ecb",
   "metadata": {},
   "outputs": [
    {
     "data": {
      "text/plain": [
       "174082.0"
      ]
     },
     "execution_count": 12,
     "metadata": {},
     "output_type": "execute_result"
    }
   ],
   "source": [
    "df['views'].median() # Check the median"
   ]
  },
  {
   "cell_type": "markdown",
   "id": "1da1b88f",
   "metadata": {},
   "source": [
    "#### Prep Data for Regression"
   ]
  },
  {
   "cell_type": "code",
   "execution_count": 13,
   "id": "fa460f8c",
   "metadata": {},
   "outputs": [
    {
     "data": {
      "image/png": "[encoded data removed]",
      "text/plain": [
       "<Figure size 432x288 with 1 Axes>"
      ]
     },
     "metadata": {
      "needs_background": "light"
     },
     "output_type": "display_data"
    }
   ],
   "source": [
    "# Create a scatterplot using matplotlib for another look at how the chosen variables plot against each other.\n",
    "\n",
    "df.plot(x = 'views', y='likes',style='o') # The style option creates a scatterplot; without it, we only have lines.\n",
    "plt.title('Views vs Likes')  \n",
    "plt.xlabel('Views')  \n",
    "plt.ylabel('likes')  \n",
    "plt.show()"
   ]
  },
  {
   "cell_type": "code",
   "execution_count": 14,
   "id": "d666748e",
   "metadata": {},
   "outputs": [],
   "source": [
    "# Reshape the variables into NumPy arrays and put them into separate objects.\n",
    "\n",
    "X = df['views'].values.reshape(-1,1)\n",
    "y = df['likes'].values.reshape(-1,1)"
   ]
  },
  {
   "cell_type": "code",
   "execution_count": 15,
   "id": "3be3c0a3",
   "metadata": {},
   "outputs": [
    {
     "data": {
      "text/plain": [
       "array([[ 748374],\n",
       "       [2418783],\n",
       "       [3191434],\n",
       "       ...,\n",
       "       [  47510],\n",
       "       [  78117],\n",
       "       [  46604]])"
      ]
     },
     "execution_count": 15,
     "metadata": {},
     "output_type": "execute_result"
    }
   ],
   "source": [
    "X"
   ]
  },
  {
   "cell_type": "code",
   "execution_count": 16,
   "id": "b24d36de",
   "metadata": {},
   "outputs": [
    {
     "data": {
      "text/plain": [
       "array([[ 57527],\n",
       "       [ 97185],\n",
       "       [146033],\n",
       "       ...,\n",
       "       [  4601],\n",
       "       [   244],\n",
       "       [   947]])"
      ]
     },
     "execution_count": 16,
     "metadata": {},
     "output_type": "execute_result"
    }
   ],
   "source": [
    "y"
   ]
  },
  {
   "cell_type": "code",
   "execution_count": 17,
   "id": "69730e56",
   "metadata": {},
   "outputs": [],
   "source": [
    "# Split data into a training set and a test set.\n",
    "\n",
    "X_train, X_test, y_train, y_test = train_test_split(X, y, test_size=0.3, random_state=0)"
   ]
  },
  {
   "cell_type": "markdown",
   "id": "054c5844",
   "metadata": {},
   "source": [
    "#### Regression Analysis"
   ]
  },
  {
   "cell_type": "code",
   "execution_count": 18,
   "id": "64e87f80",
   "metadata": {},
   "outputs": [],
   "source": [
    "# Create a regression object.\n",
    "\n",
    "regression = LinearRegression()  "
   ]
  },
  {
   "cell_type": "code",
   "execution_count": 19,
   "id": "1a186506",
   "metadata": {},
   "outputs": [
    {
     "data": {
      "text/plain": [
       "LinearRegression()"
      ]
     },
     "execution_count": 19,
     "metadata": {},
     "output_type": "execute_result"
    }
   ],
   "source": [
    "# Fitting regression object onto the training set.\n",
    "\n",
    "regression.fit(X_train, y_train)"
   ]
  },
  {
   "cell_type": "code",
   "execution_count": 20,
   "id": "bfddc777",
   "metadata": {},
   "outputs": [],
   "source": [
    "# Predicting  values of y using X.\n",
    "\n",
    "y_predicted = regression.predict(X_test)"
   ]
  },
  {
   "cell_type": "code",
   "execution_count": 21,
   "id": "6cf1a121",
   "metadata": {},
   "outputs": [
    {
     "data": {
      "image/png": "[encoded data removed]",
      "text/plain": [
       "<Figure size 432x288 with 1 Axes>"
      ]
     },
     "metadata": {
      "needs_background": "light"
     },
     "output_type": "display_data"
    }
   ],
   "source": [
    "# Create a plot that shows the regression line from the model on the test set.\n",
    "\n",
    "plot_test = plt\n",
    "plot_test.scatter(X_test, y_test, color='blue', s = 20)\n",
    "plot_test.plot(X_test, y_predicted, color='yellow', linewidth =5)\n",
    "plot_test.title('Views vs Likes (Test set)')\n",
    "plot_test.xlabel('views')\n",
    "plot_test.ylabel('likes')\n",
    "plot_test.show()"
   ]
  },
  {
   "cell_type": "code",
   "execution_count": 22,
   "id": "66b455a3",
   "metadata": {},
   "outputs": [],
   "source": [
    "# Creating objects that contain the model summary statistics.\n",
    "\n",
    "rmse = mean_squared_error(y_test, y_predicted)\n",
    "r2 = r2_score(y_test, y_predicted) "
   ]
  },
  {
   "cell_type": "code",
   "execution_count": 23,
   "id": "ddfafd82",
   "metadata": {},
   "outputs": [
    {
     "name": "stdout",
     "output_type": "stream",
     "text": [
      "Slope: [[0.01752921]]\n",
      "Mean squared error:  11325915420.703167\n",
      "R2 score:  0.6290993434259256\n"
     ]
    }
   ],
   "source": [
    "# summary statistics, evaluating  performance of the model.\n",
    "\n",
    "print('Slope:' ,regression.coef_)\n",
    "print('Mean squared error: ', rmse)\n",
    "print('R2 score: ', r2)"
   ]
  },
  {
   "cell_type": "code",
   "execution_count": 24,
   "id": "7013a751",
   "metadata": {},
   "outputs": [
    {
     "data": {
      "text/plain": [
       "array([[16897.31459669],\n",
       "       [38968.62963898],\n",
       "       [51164.16025658],\n",
       "       ...,\n",
       "       [18394.39720162],\n",
       "       [16943.83713323],\n",
       "       [61752.70009136]])"
      ]
     },
     "execution_count": 24,
     "metadata": {},
     "output_type": "execute_result"
    }
   ],
   "source": [
    "y_predicted"
   ]
  },
  {
   "cell_type": "code",
   "execution_count": 25,
   "id": "ca623b48",
   "metadata": {},
   "outputs": [
    {
     "data": {
      "text/html": [
       "<div>\n",
       "<style scoped>\n",
       "    .dataframe tbody tr th:only-of-type {\n",
       "        vertical-align: middle;\n",
       "    }\n",
       "\n",
       "    .dataframe tbody tr th {\n",
       "        vertical-align: top;\n",
       "    }\n",
       "\n",
       "    .dataframe thead th {\n",
       "        text-align: right;\n",
       "    }\n",
       "</style>\n",
       "<table border=\"1\" class=\"dataframe\">\n",
       "  <thead>\n",
       "    <tr style=\"text-align: right;\">\n",
       "      <th></th>\n",
       "      <th>Actual</th>\n",
       "      <th>Predicted</th>\n",
       "    </tr>\n",
       "  </thead>\n",
       "  <tbody>\n",
       "    <tr>\n",
       "      <th>0</th>\n",
       "      <td>22</td>\n",
       "      <td>16897.314597</td>\n",
       "    </tr>\n",
       "    <tr>\n",
       "      <th>1</th>\n",
       "      <td>54022</td>\n",
       "      <td>38968.629639</td>\n",
       "    </tr>\n",
       "    <tr>\n",
       "      <th>2</th>\n",
       "      <td>79387</td>\n",
       "      <td>51164.160257</td>\n",
       "    </tr>\n",
       "    <tr>\n",
       "      <th>3</th>\n",
       "      <td>132482</td>\n",
       "      <td>57887.823715</td>\n",
       "    </tr>\n",
       "    <tr>\n",
       "      <th>4</th>\n",
       "      <td>623</td>\n",
       "      <td>19076.055784</td>\n",
       "    </tr>\n",
       "    <tr>\n",
       "      <th>5</th>\n",
       "      <td>4199</td>\n",
       "      <td>18288.415568</td>\n",
       "    </tr>\n",
       "    <tr>\n",
       "      <th>6</th>\n",
       "      <td>1508</td>\n",
       "      <td>24905.711750</td>\n",
       "    </tr>\n",
       "    <tr>\n",
       "      <th>7</th>\n",
       "      <td>170939</td>\n",
       "      <td>51034.461595</td>\n",
       "    </tr>\n",
       "    <tr>\n",
       "      <th>8</th>\n",
       "      <td>816</td>\n",
       "      <td>20751.024863</td>\n",
       "    </tr>\n",
       "    <tr>\n",
       "      <th>9</th>\n",
       "      <td>6941</td>\n",
       "      <td>18834.047442</td>\n",
       "    </tr>\n",
       "    <tr>\n",
       "      <th>10</th>\n",
       "      <td>106</td>\n",
       "      <td>16572.428126</td>\n",
       "    </tr>\n",
       "    <tr>\n",
       "      <th>11</th>\n",
       "      <td>121035</td>\n",
       "      <td>33499.602213</td>\n",
       "    </tr>\n",
       "    <tr>\n",
       "      <th>12</th>\n",
       "      <td>1997</td>\n",
       "      <td>16888.444814</td>\n",
       "    </tr>\n",
       "    <tr>\n",
       "      <th>13</th>\n",
       "      <td>514</td>\n",
       "      <td>17265.112585</td>\n",
       "    </tr>\n",
       "    <tr>\n",
       "      <th>14</th>\n",
       "      <td>713</td>\n",
       "      <td>16637.829627</td>\n",
       "    </tr>\n",
       "    <tr>\n",
       "      <th>15</th>\n",
       "      <td>6929</td>\n",
       "      <td>21575.967249</td>\n",
       "    </tr>\n",
       "    <tr>\n",
       "      <th>16</th>\n",
       "      <td>122653</td>\n",
       "      <td>63043.744303</td>\n",
       "    </tr>\n",
       "    <tr>\n",
       "      <th>17</th>\n",
       "      <td>24</td>\n",
       "      <td>16739.411428</td>\n",
       "    </tr>\n",
       "    <tr>\n",
       "      <th>18</th>\n",
       "      <td>12444</td>\n",
       "      <td>17695.752810</td>\n",
       "    </tr>\n",
       "    <tr>\n",
       "      <th>19</th>\n",
       "      <td>390</td>\n",
       "      <td>16848.075032</td>\n",
       "    </tr>\n",
       "  </tbody>\n",
       "</table>\n",
       "</div>"
      ],
      "text/plain": [
       "    Actual     Predicted\n",
       "0       22  16897.314597\n",
       "1    54022  38968.629639\n",
       "2    79387  51164.160257\n",
       "3   132482  57887.823715\n",
       "4      623  19076.055784\n",
       "5     4199  18288.415568\n",
       "6     1508  24905.711750\n",
       "7   170939  51034.461595\n",
       "8      816  20751.024863\n",
       "9     6941  18834.047442\n",
       "10     106  16572.428126\n",
       "11  121035  33499.602213\n",
       "12    1997  16888.444814\n",
       "13     514  17265.112585\n",
       "14     713  16637.829627\n",
       "15    6929  21575.967249\n",
       "16  122653  63043.744303\n",
       "17      24  16739.411428\n",
       "18   12444  17695.752810\n",
       "19     390  16848.075032"
      ]
     },
     "execution_count": 25,
     "metadata": {},
     "output_type": "execute_result"
    }
   ],
   "source": [
    "# Data frame comparing  actual and predicted values of y.\n",
    "\n",
    "data = pd.DataFrame({'Actual': y_test.flatten(), 'Predicted': y_predicted.flatten()})\n",
    "data.head(20)"
   ]
  },
  {
   "cell_type": "code",
   "execution_count": 26,
   "id": "9e6ecc9b",
   "metadata": {},
   "outputs": [],
   "source": [
    "# Predicting \n",
    "\n",
    "y_predicted_train = regression.predict(X_train)"
   ]
  },
  {
   "cell_type": "code",
   "execution_count": 27,
   "id": "fa6b7d51",
   "metadata": {},
   "outputs": [],
   "source": [
    "rmse = mean_squared_error(y_train, y_predicted_train)\n",
    "r2 = r2_score(y_train, y_predicted_train)"
   ]
  },
  {
   "cell_type": "code",
   "execution_count": 28,
   "id": "b592413d",
   "metadata": {},
   "outputs": [
    {
     "name": "stdout",
     "output_type": "stream",
     "text": [
      "Slope: [[0.01752921]]\n",
      "Mean squared error:  12531770257.489836\n",
      "R2 score:  0.5984951653033463\n"
     ]
    }
   ],
   "source": [
    "print('Slope:' ,regression.coef_)\n",
    "print('Mean squared error: ', rmse)\n",
    "print('R2 score: ', r2)"
   ]
  },
  {
   "cell_type": "code",
   "execution_count": 29,
   "id": "5aeaaea5",
   "metadata": {},
   "outputs": [
    {
     "data": {
      "image/png": "[encoded data removed]",
      "text/plain": [
       "<Figure size 432x288 with 1 Axes>"
      ]
     },
     "metadata": {
      "needs_background": "light"
     },
     "output_type": "display_data"
    }
   ],
   "source": [
    "# Visualization for  the training set results.\n",
    "\n",
    "plot_test = plt\n",
    "plot_test.scatter(X_train, y_train, color='violet', s = 20)\n",
    "plot_test.plot(X_train, y_predicted_train, color='green', linewidth =5)\n",
    "plot_test.title('views vs likes (Test set)')\n",
    "plot_test.xlabel('views')\n",
    "plot_test.ylabel('likes')\n",
    "plot_test.show()"
   ]
  },
  {
   "cell_type": "markdown",
   "id": "b879ab36",
   "metadata": {},
   "source": [
    "We can see that there is a high correlation between the number of likes on a video and the number of views. Also an interesting note: likes and comment count has an incredibly high correlation in Japan, Japan also has a weirdly high correlation between dislikes, likes and views (one could also rephrase this to a high correlation between reactions and views). There are other interesting little tidbits in the data.\n",
    "\n",
    "(obligatory correlation =/= causation speil)Without seeing this data in timelapse one couldn't determine if a particular variable is the cause of the other. For instance: are videos that are watched frequently more likely to be liked by a viewer, or does a video receiving a large number of likes cause it to be recommended frequently. Or perhaps neither is the cause of the other and perhaps some confounding variable is the cause of both of these."
   ]
  },
  {
   "cell_type": "code",
   "execution_count": null,
   "id": "aee33ca0",
   "metadata": {},
   "outputs": [],
   "source": []
  }
 ],
 "metadata": {
  "kernelspec": {
   "display_name": "Python 3",
   "language": "python",
   "name": "python3"
  },
  "language_info": {
   "codemirror_mode": {
    "name": "ipython",
    "version": 3
   },
   "file_extension": ".py",
   "mimetype": "text/x-python",
   "name": "python",
   "nbconvert_exporter": "python",
   "pygments_lexer": "ipython3",
   "version": "3.8.8"
  }
 },
 "nbformat": 4,
 "nbformat_minor": 5
}
